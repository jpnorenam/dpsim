{
 "cells": [
  {
   "cell_type": "code",
   "execution_count": null,
   "metadata": {},
   "outputs": [],
   "source": [
    " %%bash\n",
    "TOP=${TOP:-$(git rev-parse --show-toplevel)}\n",
    "PATH=${TOP}/build/Examples/Cxx\n",
    "\n",
    "TIMESTEP=0.1e-4\n",
    "DURATION=1.0\n",
    "\n",
    "EMT_Slack_PiLine_VSI_with_PF_Init --timestep=${TIMESTEP} --duration=${DURATION}\n",
    "DP_Slack_PiLine_VSI_with_PF_Init --timestep=${TIMESTEP} --duration=${DURATION}\n",
    "SP_Slack_PiLine_VSI_with_PF_Init --timestep=${TIMESTEP} --duration=${DURATION}"
   ]
  },
  {
   "cell_type": "code",
   "execution_count": null,
   "metadata": {},
   "outputs": [],
   "source": [
    "from villas.dataprocessing.readtools import *\n",
    "from villas.dataprocessing.timeseries import *\n",
    "import re\n",
    "\n",
    "model_name = 'Slack_PiLine_VSI_with_PF_Init'\n",
    "\n",
    "path_SP = 'logs/' + 'SP_' + model_name + '_SP/'\n",
    "dpsim_result_file_SP = path_SP  + 'SP_' + model_name + '_SP.csv'\n",
    "ts_dpsim_SP = read_timeseries_csv(dpsim_result_file_SP)\n",
    "\n",
    "path_DP = 'logs/' + 'DP_' + model_name + '_DP/'\n",
    "dpsim_result_file_DP = path_DP  + 'DP_' + model_name + '_DP.csv'\n",
    "ts_dpsim_DP = read_timeseries_csv(dpsim_result_file_DP)\n",
    "\n",
    "path_EMT = 'logs/' + 'EMT_' + model_name + '_EMT/'\n",
    "dpsim_result_file_EMT = path_EMT  + 'EMT_' + model_name + '_EMT.csv'\n",
    "ts_dpsim_EMT = read_timeseries_csv(dpsim_result_file_EMT)"
   ]
  },
  {
   "cell_type": "markdown",
   "metadata": {},
   "source": [
    "## Plot quantities of interest"
   ]
  },
  {
   "cell_type": "code",
   "execution_count": null,
   "metadata": {},
   "outputs": [],
   "source": [
    "import matplotlib.pyplot as plt\n",
    "\n",
    "# %matplotlib widget"
   ]
  },
  {
   "cell_type": "code",
   "execution_count": null,
   "metadata": {},
   "outputs": [],
   "source": [
    "var_name = 'v2'\n",
    "plt.figure(figsize=(12,8))\n",
    "plt.plot(ts_dpsim_EMT[var_name+'_0'].interpolate(50e-6).time, np.sqrt(3/2)*ts_dpsim_EMT[var_name+'_0'].interpolate(50e-6).values, label='EMT')\n",
    "plt.plot(ts_dpsim_DP[var_name].interpolate(50e-6).time, ts_dpsim_DP[var_name].interpolate(50e-6).frequency_shift(50).values, label='DP backshift', linestyle='-.')\n",
    "plt.plot(ts_dpsim_SP[var_name].interpolate(50e-6).time, ts_dpsim_SP[var_name].interpolate(50e-6).frequency_shift(50).values, label='SP backshift', linestyle='--')\n",
    "plt.xlim([4.95, 5.1])\n",
    "plt.legend()\n",
    "plt.show()"
   ]
  },
  {
   "cell_type": "code",
   "execution_count": null,
   "metadata": {},
   "outputs": [],
   "source": [
    "var_name = 'i12'\n",
    "plt.figure(figsize=(12,8))\n",
    "plt.plot(ts_dpsim_EMT[var_name+'_0'].interpolate(50e-6).time, np.sqrt(3/2)*ts_dpsim_EMT[var_name+'_0'].interpolate(50e-6).values, label='EMT')\n",
    "plt.plot(ts_dpsim_DP[var_name].interpolate(50e-6).time, ts_dpsim_DP[var_name].interpolate(50e-6).frequency_shift(50).values, label='DP backshift', linestyle='-.')\n",
    "plt.plot(ts_dpsim_SP[var_name].interpolate(50e-6).time, ts_dpsim_SP[var_name].interpolate(50e-6).frequency_shift(50).values, label='SP backshift', linestyle='--')\n",
    "#plt.xlim([2.9, 4.4])\n",
    "plt.xlim([4, 10])\n",
    "plt.legend()\n",
    "plt.show()"
   ]
  },
  {
   "cell_type": "code",
   "execution_count": null,
   "metadata": {},
   "outputs": [],
   "source": [
    "var_name = 'pv_v_intf'\n",
    "plt.figure(figsize=(12,8))\n",
    "plt.plot(ts_dpsim_EMT[var_name+'_0'].interpolate(50e-6).time, np.sqrt(3/2)*ts_dpsim_EMT[var_name+'_0'].interpolate(50e-6).values, label='EMT')\n",
    "plt.plot(ts_dpsim_DP[var_name].interpolate(50e-6).time, ts_dpsim_DP[var_name].interpolate(50e-6).frequency_shift(50).values, label='DP backshift', linestyle='-.')\n",
    "plt.plot(ts_dpsim_SP[var_name].interpolate(50e-6).time, ts_dpsim_SP[var_name].interpolate(50e-6).frequency_shift(50).values, label='SP backshift', linestyle='--')\n",
    "#plt.xlim([2.9, 4.4])\n",
    "plt.legend()\n",
    "plt.show()\n"
   ]
  },
  {
   "cell_type": "code",
   "execution_count": null,
   "metadata": {},
   "outputs": [],
   "source": [
    "var_name = 'pv_i_intf'\n",
    "plt.figure(figsize=(12,8))\n",
    "plt.plot(ts_dpsim_EMT[var_name+'_0'].interpolate(50e-6).time, np.sqrt(3/2)*ts_dpsim_EMT[var_name+'_0'].interpolate(50e-6).values, label='EMT')\n",
    "plt.plot(ts_dpsim_DP[var_name].interpolate(50e-6).time, ts_dpsim_DP[var_name].interpolate(50e-6).frequency_shift(50).values, label='DP backshift', linestyle='-.')\n",
    "plt.plot(ts_dpsim_SP[var_name].interpolate(50e-6).time, ts_dpsim_SP[var_name].interpolate(50e-6).frequency_shift(50).values, label='SP backshift', linestyle='--')\n",
    "plt.xlim([4.998, 5.005])\n",
    "plt.legend()\n",
    "plt.show()\n"
   ]
  },
  {
   "cell_type": "code",
   "execution_count": null,
   "metadata": {},
   "outputs": [],
   "source": [
    "var_name = 'pv_pll_output_0'\n",
    "plt.figure(figsize=(12,8))\n",
    "plt.plot(ts_dpsim_EMT[var_name].interpolate(50e-6).time, ts_dpsim_EMT[var_name].interpolate(50e-6).values, label='EMT')\n",
    "plt.plot(ts_dpsim_DP[var_name].interpolate(50e-6).time, ts_dpsim_DP[var_name].interpolate(50e-6).values, label='DP', linestyle='-.')\n",
    "plt.plot(ts_dpsim_SP[var_name].interpolate(50e-6).time, ts_dpsim_SP[var_name].interpolate(50e-6).values, label='SP', linestyle='--')\n",
    "plt.legend()\n",
    "plt.show()"
   ]
  },
  {
   "cell_type": "code",
   "execution_count": null,
   "metadata": {},
   "outputs": [],
   "source": [
    "var_name = 'pv_pll_output_1'\n",
    "plt.figure(figsize=(12,8))\n",
    "plt.plot(ts_dpsim_EMT[var_name].interpolate(50e-6).time, ts_dpsim_EMT[var_name].interpolate(50e-6).values, label='EMT')\n",
    "plt.plot(ts_dpsim_DP[var_name].interpolate(50e-6).time, ts_dpsim_DP[var_name].interpolate(50e-6).values, label='DP', linestyle='-.')\n",
    "plt.plot(ts_dpsim_SP[var_name].interpolate(50e-6).time, ts_dpsim_SP[var_name].interpolate(50e-6).values, label='SP', linestyle='--')\n",
    "plt.legend()\n",
    "plt.show()"
   ]
  },
  {
   "cell_type": "code",
   "execution_count": null,
   "metadata": {},
   "outputs": [],
   "source": [
    "var_name = 'pv_powerctrl_state_p'\n",
    "plt.figure(figsize=(12,8))\n",
    "plt.plot(ts_dpsim_EMT[var_name].interpolate(50e-6).time, ts_dpsim_EMT[var_name].interpolate(50e-6).values, label='EMT')\n",
    "plt.plot(ts_dpsim_DP[var_name].interpolate(50e-6).time, ts_dpsim_DP[var_name].interpolate(50e-6).values, label='DP', linestyle='-.')\n",
    "plt.plot(ts_dpsim_SP[var_name].interpolate(50e-6).time, ts_dpsim_SP[var_name].interpolate(50e-6).values, label='SP', linestyle='--')\n",
    "plt.legend()\n",
    "plt.show()"
   ]
  },
  {
   "cell_type": "code",
   "execution_count": null,
   "metadata": {},
   "outputs": [],
   "source": [
    "var_name = 'pv_powerctrl_state_q'\n",
    "plt.figure(figsize=(12,8))\n",
    "plt.plot(ts_dpsim_EMT[var_name].interpolate(50e-6).time, ts_dpsim_EMT[var_name].interpolate(50e-6).values, label='EMT')\n",
    "plt.plot(ts_dpsim_DP[var_name].interpolate(50e-6).time, ts_dpsim_DP[var_name].interpolate(50e-6).values, label='DP', linestyle='-.')\n",
    "plt.plot(ts_dpsim_SP[var_name].interpolate(50e-6).time, ts_dpsim_SP[var_name].interpolate(50e-6).values, label='SP', linestyle='--')\n",
    "plt.legend()\n",
    "plt.show()"
   ]
  },
  {
   "cell_type": "code",
   "execution_count": null,
   "metadata": {},
   "outputs": [],
   "source": [
    "var_name = 'pv_powerctrl_input_ircd'\n",
    "plt.figure(figsize=(12,8))\n",
    "plt.plot(ts_dpsim_EMT[var_name].interpolate(50e-6).time, ts_dpsim_EMT[var_name].interpolate(50e-6).values, label='EMT')\n",
    "plt.plot(ts_dpsim_DP[var_name].interpolate(50e-6).time, ts_dpsim_DP[var_name].interpolate(50e-6).values, label='DP', linestyle='-.')\n",
    "plt.plot(ts_dpsim_SP[var_name].interpolate(50e-6).time, ts_dpsim_SP[var_name].interpolate(50e-6).values, label='SP', linestyle='--')\n",
    "plt.legend()\n",
    "plt.xlim([4.999, 5.004])\n",
    "plt.show()"
   ]
  },
  {
   "cell_type": "code",
   "execution_count": null,
   "metadata": {},
   "outputs": [],
   "source": [
    "var_name = 'pv_powerctrl_input_vcd'\n",
    "plt.figure(figsize=(12,8))\n",
    "plt.plot(ts_dpsim_EMT[var_name].interpolate(50e-6).time, ts_dpsim_EMT[var_name].interpolate(50e-6).values, label='EMT')\n",
    "plt.plot(ts_dpsim_DP[var_name].interpolate(50e-6).time, ts_dpsim_DP[var_name].interpolate(50e-6).values, label='DP', linestyle='-.')\n",
    "plt.plot(ts_dpsim_SP[var_name].interpolate(50e-6).time, ts_dpsim_SP[var_name].interpolate(50e-6).values, label='SP', linestyle='--')\n",
    "plt.legend()\n",
    "plt.show()"
   ]
  },
  {
   "cell_type": "code",
   "execution_count": null,
   "metadata": {},
   "outputs": [],
   "source": [
    "var_name = 'pv_powerctrl_input_vcq'\n",
    "fig = plt.figure(figsize=(12,8))\n",
    "plt.plot(ts_dpsim_EMT[var_name].interpolate(50e-6).time, ts_dpsim_EMT[var_name].interpolate(50e-6).values, label='EMT')\n",
    "plt.plot(ts_dpsim_DP[var_name].interpolate(50e-6).time, ts_dpsim_DP[var_name].interpolate(50e-6).values, label='DP', linestyle='-.')\n",
    "plt.plot(ts_dpsim_SP[var_name].interpolate(50e-6).time, ts_dpsim_SP[var_name].interpolate(50e-6).values, label='SP', linestyle='--')\n",
    "fig.legend(loc='upper center', ncol=3)\n",
    "plt.xlim([4.999, 5.004])\n",
    "plt.xlabel('Zeit[s]')\n",
    "plt.ylabel('pv_powerctrl_input_vcq')\n",
    "plt.show()"
   ]
  },
  {
   "cell_type": "code",
   "execution_count": null,
   "metadata": {},
   "outputs": [],
   "source": []
  }
 ],
 "metadata": {
  "kernelspec": {
   "display_name": "Python 3",
   "language": "python",
   "name": "python3"
  },
  "language_info": {
   "codemirror_mode": {
    "name": "ipython",
    "version": 3
   },
   "file_extension": ".py",
   "mimetype": "text/x-python",
   "name": "python",
   "nbconvert_exporter": "python",
   "pygments_lexer": "ipython3",
   "version": "3.8.3-final"
  }
 },
 "nbformat": 4,
 "nbformat_minor": 4
}