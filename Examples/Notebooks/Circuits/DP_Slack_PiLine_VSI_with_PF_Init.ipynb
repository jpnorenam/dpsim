{
 "cells": [
  {
   "cell_type": "markdown",
   "metadata": {},
   "source": [
    "# DP Simulation of topology with slack, line and VSI"
   ]
  },
  {
   "cell_type": "code",
   "execution_count": null,
   "metadata": {},
   "outputs": [],
   "source": [
    " %%bash\n",
    "TOP=${TOP:-$(git rev-parse --show-toplevel)}\n",
    "PATH=${TOP}/build/Examples/Cxx\n",
    "\n",
    "TIMESTEP=1e-5\n",
    "DURATION=1.0\n",
    "\n",
    "DP_Slack_PiLine_VSI_with_PF_Init --timestep=${TIMESTEP} --duration=${DURATION}"
   ]
  },
  {
   "cell_type": "code",
   "execution_count": null,
   "metadata": {},
   "outputs": [],
   "source": [
    "from villas.dataprocessing.readtools import *\n",
    "from villas.dataprocessing.timeseries import *\n",
    "#import scipy.signal as sig\n",
    "import matplotlib.pyplot as plt\n",
    "import re\n",
    "\n",
    "# %matplotlib widget"
   ]
  },
  {
   "cell_type": "markdown",
   "metadata": {},
   "source": [
    "## PF results"
   ]
  },
  {
   "cell_type": "code",
   "execution_count": null,
   "metadata": {},
   "outputs": [],
   "source": [
    "modelName = 'DP_Slack_PiLine_VSI_with_PF_Init_PF'\n",
    "path = 'logs/' + modelName + '/'\n",
    "dpsim_result_file = path + modelName + '.csv'\n",
    "\n",
    "ts_dpsim_pf = read_timeseries_csv(dpsim_result_file)"
   ]
  },
  {
   "cell_type": "markdown",
   "metadata": {},
   "source": [
    "## DP results"
   ]
  },
  {
   "cell_type": "code",
   "execution_count": null,
   "metadata": {},
   "outputs": [],
   "source": [
    "modelName = 'DP_Slack_PiLine_VSI_with_PF_Init_DP'\n",
    "path = 'logs/' + modelName + '/'\n",
    "dpsim_result_file = path + modelName + '.csv'\n",
    "\n",
    "ts_dpsim = read_timeseries_csv(dpsim_result_file)"
   ]
  },
  {
   "cell_type": "code",
   "execution_count": null,
   "metadata": {},
   "outputs": [],
   "source": [
    "fig = plt.figure(figsize=(12,6))\n",
    "for ts_name, ts_obj  in ts_dpsim.items():\n",
    "    if ts_name == 'v1' or ts_name == 'v2':\n",
    "        plt.plot(ts_obj.time, ts_obj.abs().values / 1000, label=ts_name)\n",
    "#for ts_name, ts_obj  in ts_dpsim_pf.items():\n",
    "#    if ts_name == 'v1' or ts_name == 'v2':\n",
    "#        plt.plot(ts_obj.time, ts_obj.abs().values, label=ts_name+'_pf', linestyle=':')\n",
    "plt.xlim(4.999, 5.004)\n",
    "fig.legend(loc='upper center', ncol=2)\n",
    "plt.xlabel('Zeit [s]')\n",
    "plt.ylabel('Spannung [kV]')\n",
    "plt.show()"
   ]
  },
  {
   "cell_type": "code",
   "execution_count": null,
   "metadata": {},
   "outputs": [],
   "source": [
    "plt.figure(figsize=(12,6))\n",
    "for ts_name, ts_obj  in ts_dpsim.items():\n",
    "    if ts_name in ['i12', 'switchedload_i']:\n",
    "        plt.plot(ts_obj.time, ts_obj.abs().values, label=ts_name)\n",
    "plt.xlim(4.999, 5.004)\n",
    "plt.legend()\n",
    "plt.show()"
   ]
  },
  {
   "cell_type": "code",
   "execution_count": null,
   "metadata": {},
   "outputs": [],
   "source": [
    "fig = plt.figure(figsize=(12,6))\n",
    "ts_5 = ts_dpsim['i12']\n",
    "ts_5_deriv = (ts_5.abs().values[1:] - ts_5.abs().values[:-1])\n",
    "plt.plot(ts_5.time[1:], ts_5_deriv, label='Änderung des Stroms i12')\n",
    "#plt.plot(ts_5.time, ts_5.abs().values)\n",
    "plt.xlim([4.999, 5.004])\n",
    "#plt.ylim([-3, 3])\n",
    "\n",
    "fig.legend(loc='upper center')\n",
    "plt.xlabel('Zeit [s]')\n",
    "plt.ylabel('Stromänderung [A/Zeitschritt]')\n",
    "plt.show()\n"
   ]
  },
  {
   "cell_type": "code",
   "execution_count": null,
   "source": [
    "#ts = ts_dpsim['i12'].abs()\n",
    "#\n",
    "## Calculate end value\n",
    "#A_end = ts.values[500400]\n",
    "##A_end = ts.values[10008]\n",
    "#print(\"A_end = \" + str(A_end))\n",
    "#\n",
    "## Calculate damping\n",
    "#tmax1 = ts.values.argmax()\n",
    "#tmin1 = ts.values[tmax1:].argmin() + tmax1\n",
    "#print(\"tmax1 = \" + str(tmax1))\n",
    "#print(\"tmin1 = \" + str(tmin1))\n",
    "#A1 = ts.values[tmax1]\n",
    "#A2 = A_end + (A_end - ts.values[tmin1])\n",
    "#print(\"A1 = \" + str(A1))\n",
    "#print(\"A2 = \" + str(A2))\n",
    "#D = 1 / np.sqrt(1 + (np.pi / np.log(A1 / A2) ** 2)) * 15\n",
    "#print(\"D = \" + str(D))\n",
    "#\n",
    "## Calculate time coefficient\n",
    "#T0 = 2 * (ts.time[tmin1] - ts.time[tmax1])\n",
    "#T = T0 * np.sqrt(1 - D) / (2 * np.pi)\n",
    "#print(\"T0 = \" + str(T0))\n",
    "#print(\"T = \" + str(T))"
   ],
   "outputs": [],
   "metadata": {}
  },
  {
   "cell_type": "code",
   "execution_count": null,
   "metadata": {},
   "outputs": [],
   "source": [
    "#fig = plt.figure(figsize=(12,6))\n",
    "\n",
    "#D = 0.57\n",
    "#T = 0.000208\n",
    "#lti = sig.lti([A_end], [T**2, 2*D*T, 1])\n",
    "#t, sys_step_response = sig.step(lti, T=ts.time[500000:500400])\n",
    "##t, sys_step_response = sig.step(lti, T=ts.time[10000:10008])\n",
    "\n",
    "#plt.plot(t, ts.abs().values[500000:500400], label='Verlauf i12 aus Simulation')\n",
    "##plt.plot(t, ts.abs().values[10000:10008], label='Verlauf i12 aus Simulation')\n",
    "#plt.plot(t, sys_step_response, label='Verlauf des nachgebildeten PT2-Glieds')\n",
    "#fig.legend(loc='upper center')\n",
    "#plt.xlabel('Zeit [s]')\n",
    "#plt.ylabel('Stromstärke [A]')\n",
    "#pass"
   ]
  },
  {
   "cell_type": "code",
   "execution_count": null,
   "metadata": {},
   "outputs": [],
   "source": [
    "#plt.figure(figsize=(12,6))\n",
    "\n",
    "#freq = np.arange(0, 2000)\n",
    "#w, mag = lti.freqresp(w=2*np.pi*freq)\n",
    "\n",
    "#plt.plot(freq, abs(mag))\n",
    "#plt.xlabel('Frequenz [Hz]')\n",
    "#plt.ylabel('Gain')\n",
    "#pass"
   ]
  },
  {
   "cell_type": "code",
   "execution_count": null,
   "metadata": {},
   "outputs": [],
   "source": []
  }
 ],
 "metadata": {
  "kernelspec": {
   "display_name": "Python 3",
   "language": "python",
   "name": "python3"
  },
  "language_info": {
   "codemirror_mode": {
    "name": "ipython",
    "version": 3
   },
   "file_extension": ".py",
   "mimetype": "text/x-python",
   "name": "python",
   "nbconvert_exporter": "python",
   "pygments_lexer": "ipython3",
   "version": "3.8.3-final"
  }
 },
 "nbformat": 4,
 "nbformat_minor": 4
}