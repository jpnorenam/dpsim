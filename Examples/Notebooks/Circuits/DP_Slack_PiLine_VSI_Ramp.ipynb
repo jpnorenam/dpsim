{
 "cells": [
  {
   "cell_type": "code",
   "execution_count": null,
   "metadata": {},
   "outputs": [],
   "source": [
    "from villas.dataprocessing.readtools import *\n",
    "from villas.dataprocessing.timeseries import *\n",
    "import matplotlib.pyplot as plt\n",
    "import re\n",
    "\n",
    "# %matplotlib widget"
   ]
  },
  {
   "cell_type": "markdown",
   "metadata": {},
   "source": [
    "# DP Simulation of topology with slack, line and VSI"
   ]
  },
  {
   "cell_type": "markdown",
   "metadata": {},
   "source": [
    "## DP simulation"
   ]
  },
  {
   "cell_type": "code",
   "execution_count": null,
   "metadata": {},
   "outputs": [],
   "source": [
    " %%bash\n",
    "TOP=${TOP:-$(git rev-parse --show-toplevel)}\n",
    "PATH=${TOP}/build/Examples/Cxx\n",
    "\n",
    "DURATION=1.0\n",
    "TIMESTEP=0.001\n",
    "\n",
    "DP_Slack_PiLine_VSI_Ramp_with_PF_Init --timestep=${TIMESTEP} --duration=${DURATION}"
   ]
  },
  {
   "cell_type": "code",
   "execution_count": null,
   "metadata": {},
   "outputs": [],
   "source": [
    "modelName = 'DP_Slack_PiLine_VSI_Ramp_with_PF_Init_DP'\n",
    "path = 'logs/' + modelName + '/'\n",
    "dpsim_result_file = path + modelName + '.csv'\n",
    "\n",
    "ts_dpsim = read_timeseries_csv(dpsim_result_file)"
   ]
  },
  {
   "source": [
    "## DP and EMT simulation for reference"
   ],
   "cell_type": "markdown",
   "metadata": {}
  },
  {
   "cell_type": "code",
   "execution_count": null,
   "metadata": {},
   "outputs": [],
   "source": [
    " %%bash\n",
    "TOP=${TOP:-$(git rev-parse --show-toplevel)}\n",
    "PATH=${TOP}/build/Examples/Cxx\n",
    "\n",
    "DURATION=1.0\n",
    "TIMESTEP=0.00005\n",
    "\n",
    "DP_Slack_PiLine_VSI_Ramp_with_PF_Init --timestep=${TIMESTEP} --duration=${DURATION}"
   ]
  },
  {
   "cell_type": "code",
   "execution_count": null,
   "metadata": {},
   "outputs": [],
   "source": [
    "modelName = 'DP_Slack_PiLine_VSI_Ramp_with_PF_Init_DP'\n",
    "path = 'logs/' + modelName + '/'\n",
    "dpsim_result_file = path + modelName + '.csv'\n",
    "\n",
    "ts_dpsim_ref = read_timeseries_csv(dpsim_result_file)"
   ]
  },
  {
   "cell_type": "code",
   "execution_count": null,
   "metadata": {},
   "outputs": [],
   "source": [
    " %%bash\n",
    "TOP=${TOP:-$(git rev-parse --show-toplevel)}\n",
    "PATH=${TOP}/build/Examples/Cxx\n",
    "\n",
    "DURATION=1.0\n",
    "TIMESTEP=0.00005\n",
    "\n",
    "EMT_Slack_PiLine_VSI_Ramp_with_PF_Init --timestep=${TIMESTEP} --duration=${DURATION}"
   ]
  },
  {
   "cell_type": "code",
   "execution_count": null,
   "metadata": {},
   "outputs": [],
   "source": [
    "modelName = 'EMT_Slack_PiLine_VSI_Ramp_with_PF_Init_EMT'\n",
    "path = 'logs/' + modelName + '/'\n",
    "dpsim_result_file = path + modelName + '.csv'\n",
    "\n",
    "ts_dpsim_emt = read_timeseries_csv(dpsim_result_file)"
   ]
  },
  {
   "source": [
    "## Plots"
   ],
   "cell_type": "markdown",
   "metadata": {}
  },
  {
   "cell_type": "code",
   "execution_count": null,
   "metadata": {},
   "outputs": [],
   "source": [
    "plt.figure(figsize=(12,6))\n",
    "for ts_name, ts_obj  in ts_dpsim_ref.items():\n",
    "        if ts_name in ['f_src']:\n",
    "                plt.plot(ts_obj.time, ts_obj.values, label=ts_name, color='C0')\n",
    "#for ts_name, ts_obj  in ts_dpsim.items():\n",
    "#        if ts_name in ['f_src']:\n",
    "#                plt.plot(ts_obj.time, ts_obj.values, label=ts_name + ' (DP, 1 ms)', color='C1', linestyle=':')\n",
    "\n",
    "#plt.xlim(0.095, 0.3)\n",
    "plt.xlim(4.8,8)\n",
    "plt.xlabel('Zeit [s]')\n",
    "plt.ylabel('Frequenz der Spannungsquelle [Hz]')\n",
    "plt.gcf().legend(loc='upper center', ncol=2)\n",
    "plt.show()"
   ]
  },
  {
   "cell_type": "code",
   "execution_count": null,
   "metadata": {},
   "outputs": [],
   "source": [
    "plt.figure(figsize=(8,4.2))\n",
    "for ts_name, ts_obj  in ts_dpsim_emt.items():\n",
    "        if ts_name in ['v2_0']:\n",
    "                plt.plot(ts_obj.time, np.sqrt(3/2)*ts_obj.values, label='u2 abs (EMT, 50 µs)')\n",
    "for ts_name, ts_obj  in ts_dpsim_ref.items():\n",
    "        if ts_name in ['v2']:\n",
    "                plt.plot(ts_obj.time, ts_obj.abs().values, label='u2 abs (DP, 50 µs)', color='C1')\n",
    "for ts_name, ts_obj  in ts_dpsim.items():\n",
    "        if ts_name in ['v2']:\n",
    "                plt.plot(ts_obj.time, ts_obj.abs().values, label='u2 abs (DP, 1 ms)', color='C1', linestyle='--')\n",
    "\n",
    "plt.xlim(4.8,8)\n",
    "plt.ylim(20017,20029)\n",
    "plt.xlabel('Zeit [s]')\n",
    "plt.ylabel('Betrag der Lastspannung u2 [V]')\n",
    "plt.gcf().legend(loc='upper center', ncol=3)\n",
    "plt.grid('y')\n",
    "plt.show()"
   ]
  },
  {
   "cell_type": "code",
   "execution_count": null,
   "metadata": {},
   "outputs": [],
   "source": []
  }
 ],
 "metadata": {
  "kernelspec": {
   "display_name": "Python 3",
   "language": "python",
   "name": "python3"
  },
  "language_info": {
   "codemirror_mode": {
    "name": "ipython",
    "version": 3
   },
   "file_extension": ".py",
   "mimetype": "text/x-python",
   "name": "python",
   "nbconvert_exporter": "python",
   "pygments_lexer": "ipython3",
   "version": "3.8.3"
  }
 },
 "nbformat": 4,
 "nbformat_minor": 4
}